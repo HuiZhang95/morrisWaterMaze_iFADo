{
 "cells": [
  {
   "cell_type": "code",
   "execution_count": 10,
   "id": "784a3df0",
   "metadata": {},
   "outputs": [],
   "source": [
    "from pathlib import Path\n",
    "import os"
   ]
  },
  {
   "cell_type": "code",
   "execution_count": 20,
   "id": "5328a5b3",
   "metadata": {},
   "outputs": [],
   "source": [
    "dataPath = \"F:/project/navigationParadigm/MorrisMaze/data/\"\n",
    "dataFolder = [\"ifADo Data\",\"ifADo_2ndRound\"]\n",
    "saveDataPath = Path('F:/project/navigationParadigm/MorrisMaze/analyzeBehData/')\n",
    "dataPath_exl = Path('F:/project/navigationParadigm/MorrisMaze/data/')\n",
    "exlName = [\"Demographics_04092020_IFaDo.xlsx\",\"Demographic_data_v2.xlsx\"]"
   ]
  },
  {
   "cell_type": "code",
   "execution_count": 21,
   "id": "13bbbe6e",
   "metadata": {},
   "outputs": [
    {
     "name": "stdout",
     "output_type": "stream",
     "text": [
      "F:/project/navigationParadigm/MorrisMaze/data/\n"
     ]
    }
   ],
   "source": [
    "print(dataPath)"
   ]
  },
  {
   "cell_type": "code",
   "execution_count": 23,
   "id": "4da3bab2",
   "metadata": {},
   "outputs": [
    {
     "name": "stdout",
     "output_type": "stream",
     "text": [
      "F:/project/navigationParadigm/MorrisMaze/data/ifADo Data\n"
     ]
    },
    {
     "ename": "FileNotFoundError",
     "evalue": "[Errno 2] No such file or directory: 'F:/project/navigationParadigm/MorrisMaze/data/ifADo Data'",
     "output_type": "error",
     "traceback": [
      "\u001b[0;31m---------------------------------------------------------------------------\u001b[0m",
      "\u001b[0;31mFileNotFoundError\u001b[0m                         Traceback (most recent call last)",
      "Cell \u001b[0;32mIn[23], line 4\u001b[0m\n\u001b[1;32m      2\u001b[0m mypath \u001b[38;5;241m=\u001b[39m dataPath\u001b[38;5;241m+\u001b[39mdataFolder[x]\n\u001b[1;32m      3\u001b[0m \u001b[38;5;28mprint\u001b[39m(mypath)\n\u001b[0;32m----> 4\u001b[0m files \u001b[38;5;241m=\u001b[39m [f \u001b[38;5;28;01mfor\u001b[39;00m f \u001b[38;5;129;01min\u001b[39;00m os\u001b[38;5;241m.\u001b[39mlistdir(dataPath\u001b[38;5;241m+\u001b[39mdataFolder[x]) \u001b[38;5;28;01mif\u001b[39;00m os\u001b[38;5;241m.\u001b[39mpath\u001b[38;5;241m.\u001b[39misdir(f)]\n\u001b[1;32m      5\u001b[0m \u001b[38;5;28mprint\u001b[39m(files)\n",
      "\u001b[0;31mFileNotFoundError\u001b[0m: [Errno 2] No such file or directory: 'F:/project/navigationParadigm/MorrisMaze/data/ifADo Data'"
     ]
    }
   ],
   "source": [
    "for x in range(len(dataFolder)):\n",
    "    mypath = dataPath+dataFolder[x]\n",
    "    print(mypath)\n",
    "    files = [f for f in os.listdir(dataPath+dataFolder[x]) if os.path.isdir(f)]\n",
    "    print(files)"
   ]
  },
  {
   "cell_type": "code",
   "execution_count": null,
   "id": "755775b6",
   "metadata": {},
   "outputs": [],
   "source": []
  }
 ],
 "metadata": {
  "kernelspec": {
   "display_name": "Python 3 (ipykernel)",
   "language": "python",
   "name": "python3"
  },
  "language_info": {
   "codemirror_mode": {
    "name": "ipython",
    "version": 3
   },
   "file_extension": ".py",
   "mimetype": "text/x-python",
   "name": "python",
   "nbconvert_exporter": "python",
   "pygments_lexer": "ipython3",
   "version": "3.11.5"
  }
 },
 "nbformat": 4,
 "nbformat_minor": 5
}
